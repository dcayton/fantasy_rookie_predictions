{
 "cells": [
  {
   "cell_type": "code",
   "execution_count": 1,
   "id": "a7a3a147",
   "metadata": {},
   "outputs": [],
   "source": [
    "import numpy as np\n",
    "import pandas as pd\n",
    "import requests\n",
    "from bs4 import BeautifulSoup"
   ]
  },
  {
   "cell_type": "code",
   "execution_count": 2,
   "id": "29eaa940",
   "metadata": {},
   "outputs": [],
   "source": [
    "from adp_scrape import *"
   ]
  },
  {
   "cell_type": "code",
   "execution_count": 3,
   "id": "73e0f3ce",
   "metadata": {},
   "outputs": [],
   "source": [
    "years = np.arange(2014, 2022)\n",
    "\n",
    "all_adp_df = adp_scrape(years)"
   ]
  },
  {
   "cell_type": "code",
   "execution_count": 4,
   "id": "499533fa",
   "metadata": {},
   "outputs": [],
   "source": [
    "all_adp_df.to_csv(\"adp.csv\", encoding='utf-8', index=False)"
   ]
  },
  {
   "cell_type": "code",
   "execution_count": null,
   "id": "538b8b14",
   "metadata": {},
   "outputs": [],
   "source": []
  }
 ],
 "metadata": {
  "kernelspec": {
   "display_name": "Python 3 (ipykernel)",
   "language": "python",
   "name": "python3"
  },
  "language_info": {
   "codemirror_mode": {
    "name": "ipython",
    "version": 3
   },
   "file_extension": ".py",
   "mimetype": "text/x-python",
   "name": "python",
   "nbconvert_exporter": "python",
   "pygments_lexer": "ipython3",
   "version": "3.9.12"
  }
 },
 "nbformat": 4,
 "nbformat_minor": 5
}
