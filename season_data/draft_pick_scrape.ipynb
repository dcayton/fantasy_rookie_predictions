{
 "cells": [
  {
   "cell_type": "code",
   "execution_count": 1,
   "id": "12891340",
   "metadata": {},
   "outputs": [],
   "source": [
    "import requests\n",
    "from bs4 import BeautifulSoup \n",
    "\n",
    "import pandas as pd\n",
    "import numpy as np"
   ]
  },
  {
   "cell_type": "code",
   "execution_count": 2,
   "id": "f29a195b",
   "metadata": {},
   "outputs": [],
   "source": [
    "headers = {'User-Agent': \n",
    "           'Mozilla/5.0 (X11; Linux x86_64) AppleWebKit/537.36 (KHTML, like Gecko) Chrome/47.0.2526.106 Safari/537.36'}"
   ]
  },
  {
   "cell_type": "code",
   "execution_count": 3,
   "id": "4e875d36",
   "metadata": {},
   "outputs": [],
   "source": [
    "page = \"https://www.pro-football-reference.com/years/2021/draft.htm\"\n",
    "page_tree = requests.get(page, headers=headers)\n",
    "page_soup = BeautifulSoup(page_tree.content, 'html.parser')"
   ]
  },
  {
   "cell_type": "code",
   "execution_count": 4,
   "id": "1b2cedaa",
   "metadata": {},
   "outputs": [],
   "source": [
    "players = page_soup.find_all(\"td\", {\"class\": \"left\", \"data-stat\": \"player\"})\n",
    "picks = page_soup.find_all(\"td\", {\"class\": \"right\", \"data-stat\": \"draft_pick\"})"
   ]
  },
  {
   "cell_type": "code",
   "execution_count": 5,
   "id": "83ac9833",
   "metadata": {},
   "outputs": [
    {
     "data": {
      "text/html": [
       "<div>\n",
       "<style scoped>\n",
       "    .dataframe tbody tr th:only-of-type {\n",
       "        vertical-align: middle;\n",
       "    }\n",
       "\n",
       "    .dataframe tbody tr th {\n",
       "        vertical-align: top;\n",
       "    }\n",
       "\n",
       "    .dataframe thead th {\n",
       "        text-align: right;\n",
       "    }\n",
       "</style>\n",
       "<table border=\"1\" class=\"dataframe\">\n",
       "  <thead>\n",
       "    <tr style=\"text-align: right;\">\n",
       "      <th></th>\n",
       "      <th>player</th>\n",
       "      <th>draft_pick</th>\n",
       "      <th>draft_year</th>\n",
       "    </tr>\n",
       "  </thead>\n",
       "  <tbody>\n",
       "    <tr>\n",
       "      <th>0</th>\n",
       "      <td>Trevor Lawrence</td>\n",
       "      <td>1</td>\n",
       "      <td>2021</td>\n",
       "    </tr>\n",
       "    <tr>\n",
       "      <th>1</th>\n",
       "      <td>Zach Wilson</td>\n",
       "      <td>2</td>\n",
       "      <td>2021</td>\n",
       "    </tr>\n",
       "    <tr>\n",
       "      <th>2</th>\n",
       "      <td>Trey Lance</td>\n",
       "      <td>3</td>\n",
       "      <td>2021</td>\n",
       "    </tr>\n",
       "    <tr>\n",
       "      <th>3</th>\n",
       "      <td>Kyle Pitts</td>\n",
       "      <td>4</td>\n",
       "      <td>2021</td>\n",
       "    </tr>\n",
       "    <tr>\n",
       "      <th>4</th>\n",
       "      <td>Ja'Marr Chase</td>\n",
       "      <td>5</td>\n",
       "      <td>2021</td>\n",
       "    </tr>\n",
       "  </tbody>\n",
       "</table>\n",
       "</div>"
      ],
      "text/plain": [
       "            player draft_pick  draft_year\n",
       "0  Trevor Lawrence          1        2021\n",
       "1      Zach Wilson          2        2021\n",
       "2       Trey Lance          3        2021\n",
       "3       Kyle Pitts          4        2021\n",
       "4    Ja'Marr Chase          5        2021"
      ]
     },
     "execution_count": 5,
     "metadata": {},
     "output_type": "execute_result"
    }
   ],
   "source": [
    "players_list = []\n",
    "picks_list = []\n",
    "\n",
    "for i in range(0, len(picks)):\n",
    "    players_list.append(players[i].text)\n",
    "    picks_list.append(picks[i].text)\n",
    "    \n",
    "draft_2021 = pd.DataFrame({\"player\": players_list, \"draft_pick\": picks_list, \"draft_year\": 2021})\n",
    "\n",
    "draft_2021.head()"
   ]
  },
  {
   "cell_type": "code",
   "execution_count": 6,
   "id": "15682bb2",
   "metadata": {},
   "outputs": [],
   "source": [
    "years = np.arange(1996, 2022)"
   ]
  },
  {
   "cell_type": "code",
   "execution_count": 7,
   "id": "881cb13c",
   "metadata": {},
   "outputs": [],
   "source": [
    "draft_history = pd.DataFrame()\n",
    "\n",
    "for year in years:\n",
    "    year_page = f\"https://www.pro-football-reference.com/years/{year}/draft.htm\"\n",
    "    year_page_tree = requests.get(year_page, headers=headers)\n",
    "    year_page_soup = BeautifulSoup(year_page_tree.content, 'html.parser')\n",
    "    \n",
    "    year_players = year_page_soup.find_all(\"td\", {\"class\": \"left\", \"data-stat\": \"player\"})\n",
    "    year_picks = year_page_soup.find_all(\"td\", {\"class\": \"right\", \"data-stat\": \"draft_pick\"})\n",
    "    \n",
    "    year_players_list = []\n",
    "    year_picks_list = []\n",
    "    \n",
    "    for i in range(0, len(year_picks)):\n",
    "        year_players_list.append(year_players[i].text)\n",
    "        year_picks_list.append(year_picks[i].text)\n",
    "    \n",
    "    year_draft = pd.DataFrame({\"Player\": year_players_list, \n",
    "                               \"draft_pick\": year_picks_list, \n",
    "                               \"draft_year\": year})\n",
    "    \n",
    "    draft_history = pd.concat([draft_history, year_draft], ignore_index=True)"
   ]
  },
  {
   "cell_type": "code",
   "execution_count": 8,
   "id": "c6ac70e2",
   "metadata": {},
   "outputs": [],
   "source": [
    "player_names = [d.replace(\" HOF\", \"\") for d in draft_history[\"Player\"].tolist()]"
   ]
  },
  {
   "cell_type": "code",
   "execution_count": 9,
   "id": "82909fe0",
   "metadata": {},
   "outputs": [],
   "source": [
    "draft_history[\"Player\"] = player_names"
   ]
  },
  {
   "cell_type": "code",
   "execution_count": 10,
   "id": "e8c56c39",
   "metadata": {},
   "outputs": [],
   "source": [
    "draft_history.to_csv(\"draft_history.csv\", encoding='utf-8', index=False)"
   ]
  },
  {
   "cell_type": "code",
   "execution_count": null,
   "id": "85de5f61",
   "metadata": {},
   "outputs": [],
   "source": []
  }
 ],
 "metadata": {
  "kernelspec": {
   "display_name": "Python 3 (ipykernel)",
   "language": "python",
   "name": "python3"
  },
  "language_info": {
   "codemirror_mode": {
    "name": "ipython",
    "version": 3
   },
   "file_extension": ".py",
   "mimetype": "text/x-python",
   "name": "python",
   "nbconvert_exporter": "python",
   "pygments_lexer": "ipython3",
   "version": "3.9.12"
  }
 },
 "nbformat": 4,
 "nbformat_minor": 5
}
