{
 "cells": [
  {
   "cell_type": "code",
   "execution_count": 1,
   "id": "d000aaca",
   "metadata": {},
   "outputs": [],
   "source": [
    "import requests\n",
    "from bs4 import BeautifulSoup \n",
    "\n",
    "import pandas as pd\n",
    "import numpy as np\n",
    "import re"
   ]
  },
  {
   "cell_type": "code",
   "execution_count": 2,
   "id": "bc1cdb68",
   "metadata": {},
   "outputs": [],
   "source": [
    "headers = {'User-Agent': \n",
    "           'Mozilla/5.0 (X11; Linux x86_64) AppleWebKit/537.36 (KHTML, like Gecko) Chrome/47.0.2526.106 Safari/537.36'}"
   ]
  },
  {
   "cell_type": "code",
   "execution_count": 3,
   "id": "da3b39e9",
   "metadata": {},
   "outputs": [],
   "source": [
    "team_data = pd.DataFrame()\n",
    "years = np.arange(2013, 2022)\n",
    "\n",
    "for year in years:\n",
    "    year_page = f\"https://www.footballdb.com/stats/teamstat.html?group=O&cat=T&yr={year}&lg=NFL\"\n",
    "    year_page_tree = requests.get(year_page, headers=headers)\n",
    "    year_page_soup = BeautifulSoup(year_page_tree.content, 'html.parser')\n",
    "    \n",
    "    year_team_data = year_page_soup.find_all(\"td\")\n",
    "    \n",
    "    year_team_list = []\n",
    "    year_run_list = []\n",
    "    year_pass_list = []\n",
    "    year_total_list = []\n",
    "    year_ppg_list = []\n",
    "    \n",
    "    for i in range(0, 32):\n",
    "        team_name_str = year_team_data[0 + i*10].text.split()\n",
    "        if len(team_name_str) == 2:\n",
    "            team_name = re.findall('[A-Z][^A-Z]*', team_name_str[1])[0]\n",
    "            year_team_list.append(team_name)\n",
    "        else: \n",
    "            team_name = re.findall('[A-Z][^A-Z]*', team_name_str[2])[0]\n",
    "            year_team_list.append(team_name)\n",
    "        \n",
    "        year_run_list.append(year_team_data[5 + i*10].text)\n",
    "        year_pass_list.append(year_team_data[7 + i*10].text)\n",
    "        year_total_list.append(year_team_data[9 + i*10].text)\n",
    "        year_ppg_list.append(year_team_data[3 + i*10].text)\n",
    "        \n",
    "    year_df = pd.DataFrame({\"Team\": year_team_list, \n",
    "                            \"PassYPG\": year_pass_list,\n",
    "                            \"RunYPG\": year_run_list,\n",
    "                            \"TotalYPG\": year_total_list,\n",
    "                            \"PPG\": year_ppg_list,\n",
    "                            \"Year\": year})\n",
    "    \n",
    "    team_data = pd.concat([team_data, year_df], ignore_index=True)"
   ]
  },
  {
   "cell_type": "code",
   "execution_count": 4,
   "id": "7dd101af",
   "metadata": {},
   "outputs": [
    {
     "data": {
      "text/plain": [
       "array(['Broncos', 'Eagles', 'Packers', 'Saints', 'Chargers', 'Lions',\n",
       "       'Patriots', 'Bears', 'Redskins', 'Bengals', 'Texans', 'Cardinals',\n",
       "       'Vikings', 'Falcons', 'Colts', 'Cowboys', 'Browns', 'Seahawks',\n",
       "       'Bills', 'Steelers', 'Chiefs', 'Titans', 'Raiders', 'San', 'Jets',\n",
       "       'Panthers', 'Dolphins', 'Giants', 'Ravens', 'Rams', 'Jaguars',\n",
       "       'Buccaneers', 'Team'], dtype=object)"
      ]
     },
     "execution_count": 4,
     "metadata": {},
     "output_type": "execute_result"
    }
   ],
   "source": [
    "team_data[\"Team\"].unique()"
   ]
  },
  {
   "cell_type": "code",
   "execution_count": 6,
   "id": "309dd8f5",
   "metadata": {},
   "outputs": [],
   "source": [
    "squads = team_data[\"Team\"].replace({\"Redskins\": \"WFT\", \"San\": \"49ers\", \"Team\": \"WFT\"})\n",
    "team_data[\"Team\"] = squads"
   ]
  },
  {
   "cell_type": "code",
   "execution_count": 7,
   "id": "82a808c9",
   "metadata": {},
   "outputs": [
    {
     "data": {
      "text/plain": [
       "array(['Broncos', 'Eagles', 'Packers', 'Saints', 'Chargers', 'Lions',\n",
       "       'Patriots', 'Bears', 'WFT', 'Bengals', 'Texans', 'Cardinals',\n",
       "       'Vikings', 'Falcons', 'Colts', 'Cowboys', 'Browns', 'Seahawks',\n",
       "       'Bills', 'Steelers', 'Chiefs', 'Titans', 'Raiders', '49ers',\n",
       "       'Jets', 'Panthers', 'Dolphins', 'Giants', 'Ravens', 'Rams',\n",
       "       'Jaguars', 'Buccaneers'], dtype=object)"
      ]
     },
     "execution_count": 7,
     "metadata": {},
     "output_type": "execute_result"
    }
   ],
   "source": [
    "team_data[\"Team\"].unique()"
   ]
  },
  {
   "cell_type": "code",
   "execution_count": 8,
   "id": "2655b0aa",
   "metadata": {},
   "outputs": [],
   "source": [
    "team_data.to_csv(\"team_data.csv\", encoding='utf-8', index=False)"
   ]
  },
  {
   "cell_type": "code",
   "execution_count": null,
   "id": "17b494ae",
   "metadata": {},
   "outputs": [],
   "source": []
  }
 ],
 "metadata": {
  "kernelspec": {
   "display_name": "Python 3 (ipykernel)",
   "language": "python",
   "name": "python3"
  },
  "language_info": {
   "codemirror_mode": {
    "name": "ipython",
    "version": 3
   },
   "file_extension": ".py",
   "mimetype": "text/x-python",
   "name": "python",
   "nbconvert_exporter": "python",
   "pygments_lexer": "ipython3",
   "version": "3.9.12"
  }
 },
 "nbformat": 4,
 "nbformat_minor": 5
}
